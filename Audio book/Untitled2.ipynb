{
 "cells": [
  {
   "cell_type": "code",
   "execution_count": 1,
   "id": "5c21851a-54de-4ca2-8334-75e1426f2ac0",
   "metadata": {},
   "outputs": [],
   "source": [
    "import tensorflow as tf\n",
    "import numpy as np"
   ]
  },
  {
   "cell_type": "markdown",
   "id": "45633e83-4ce2-4db7-a141-e984de1bb806",
   "metadata": {},
   "source": [
    "Data importing"
   ]
  },
  {
   "cell_type": "code",
   "execution_count": 213,
   "id": "eda6323c-4ab8-4466-aed8-34aacc51a46d",
   "metadata": {},
   "outputs": [],
   "source": [
    "audio = np.loadtxt('Audiobooks_data.csv', delimiter = ',')"
   ]
  },
  {
   "cell_type": "code",
   "execution_count": 215,
   "id": "4e1b64a3-bfe4-4732-84f8-22a6791857bd",
   "metadata": {},
   "outputs": [
    {
     "data": {
      "text/plain": [
       "array([[9.9400e+02, 1.6200e+03, 1.6200e+03, ..., 5.0000e+00, 9.2000e+01,\n",
       "        0.0000e+00],\n",
       "       [1.1430e+03, 2.1600e+03, 2.1600e+03, ..., 0.0000e+00, 0.0000e+00,\n",
       "        0.0000e+00],\n",
       "       [2.0590e+03, 2.1600e+03, 2.1600e+03, ..., 0.0000e+00, 3.8800e+02,\n",
       "        0.0000e+00],\n",
       "       ...,\n",
       "       [3.1134e+04, 2.1600e+03, 2.1600e+03, ..., 0.0000e+00, 0.0000e+00,\n",
       "        0.0000e+00],\n",
       "       [3.2832e+04, 1.6200e+03, 1.6200e+03, ..., 0.0000e+00, 9.0000e+01,\n",
       "        0.0000e+00],\n",
       "       [2.5100e+02, 1.6740e+03, 3.3480e+03, ..., 0.0000e+00, 0.0000e+00,\n",
       "        1.0000e+00]])"
      ]
     },
     "execution_count": 215,
     "metadata": {},
     "output_type": "execute_result"
    }
   ],
   "source": [
    "audio"
   ]
  },
  {
   "cell_type": "code",
   "execution_count": 217,
   "id": "07abc824-e97c-4ae6-a142-ff087a284c32",
   "metadata": {},
   "outputs": [],
   "source": [
    "audio_inputs = audio[:, :-1]\n",
    "audio_targets = audio[:, -1]"
   ]
  },
  {
   "cell_type": "code",
   "execution_count": 219,
   "id": "d9228fbb-b957-4841-aa1f-e9c6f905ae97",
   "metadata": {},
   "outputs": [
    {
     "data": {
      "text/plain": [
       "14084"
      ]
     },
     "execution_count": 219,
     "metadata": {},
     "output_type": "execute_result"
    }
   ],
   "source": [
    "audio_targets.shape[0]"
   ]
  },
  {
   "cell_type": "code",
   "execution_count": 221,
   "id": "a672412d-a62b-492e-ac86-9d37286983a9",
   "metadata": {},
   "outputs": [
    {
     "data": {
      "text/plain": [
       "2237.0"
      ]
     },
     "execution_count": 221,
     "metadata": {},
     "output_type": "execute_result"
    }
   ],
   "source": [
    "np.sum(audio_targets)"
   ]
  },
  {
   "cell_type": "markdown",
   "id": "128f726e-8b26-4ebb-b589-88547094b14e",
   "metadata": {},
   "source": [
    "Balancing the targets"
   ]
  },
  {
   "cell_type": "code",
   "execution_count": 224,
   "id": "6b7e49ea-fa32-4cc8-926f-87190471a65c",
   "metadata": {},
   "outputs": [],
   "source": [
    "target_zeros = np.sum(audio_targets)\n",
    "extra_zeros = []\n",
    "zero_counter = 0\n",
    "\n",
    "for i in range(audio_targets.shape[0]):\n",
    "    if audio_targets[i] == 0:\n",
    "        zero_counter = zero_counter + 1\n",
    "        if zero_counter > target_zeros :\n",
    "            extra_zeros.append(i)"
   ]
  },
  {
   "cell_type": "code",
   "execution_count": 226,
   "id": "4778dc67-407a-468a-be65-393683b984c8",
   "metadata": {},
   "outputs": [],
   "source": [
    "audio_inputs = np.delete(audio_inputs,extra_zeros, axis= 0)\n",
    "audio_targets = np.delete(audio_targets,extra_zeros, axis = 0)"
   ]
  },
  {
   "cell_type": "code",
   "execution_count": 228,
   "id": "f9837583-15df-43d9-9d66-2a56de621cd8",
   "metadata": {},
   "outputs": [
    {
     "data": {
      "text/plain": [
       "4474"
      ]
     },
     "execution_count": 228,
     "metadata": {},
     "output_type": "execute_result"
    }
   ],
   "source": [
    "audio_inputs.shape[0] "
   ]
  },
  {
   "cell_type": "code",
   "execution_count": 230,
   "id": "1742af37-db7a-46f0-a42b-c888fcfc214d",
   "metadata": {},
   "outputs": [
    {
     "data": {
      "text/plain": [
       "2237.0"
      ]
     },
     "execution_count": 230,
     "metadata": {},
     "output_type": "execute_result"
    }
   ],
   "source": [
    "audio_targets.sum()"
   ]
  },
  {
   "cell_type": "code",
   "execution_count": null,
   "id": "74010c3c-8f54-42cd-8671-9eab7d649ba2",
   "metadata": {},
   "outputs": [],
   "source": []
  },
  {
   "cell_type": "markdown",
   "id": "c5d7d6db-995f-4b6a-85db-9202937a9332",
   "metadata": {},
   "source": [
    "Scaling the data"
   ]
  },
  {
   "cell_type": "code",
   "execution_count": 234,
   "id": "dd8096ea-60d7-4895-8b61-b9621b931a4b",
   "metadata": {},
   "outputs": [],
   "source": [
    "from sklearn import preprocessing"
   ]
  },
  {
   "cell_type": "markdown",
   "id": "dda0bc33-de2c-4877-bd2e-5a19a0bb98f7",
   "metadata": {},
   "source": [
    "Shuffle the data "
   ]
  },
  {
   "cell_type": "code",
   "execution_count": 237,
   "id": "71fa85f2-94d1-4649-9315-68e05a36e503",
   "metadata": {},
   "outputs": [],
   "source": [
    "suffle_indices =np.arange(audio_targets.shape[0])\n",
    "\n",
    "np.random.shuffle(suffle_indices)\n",
    "\n",
    "audio_inputs = audio_inputs[suffle_indices]\n",
    "audio_targets = audio_targets[suffle_indices]"
   ]
  },
  {
   "cell_type": "code",
   "execution_count": 239,
   "id": "401c6763-4cd7-45f8-ab24-0ad62cf30c0a",
   "metadata": {},
   "outputs": [],
   "source": [
    "audio_inputs = preprocessing.scale(audio_inputs)"
   ]
  },
  {
   "cell_type": "markdown",
   "id": "d67cf1c0-f538-4d30-b3cd-08397771b276",
   "metadata": {},
   "source": [
    "Splitting data"
   ]
  },
  {
   "cell_type": "code",
   "execution_count": 242,
   "id": "20e12818-893d-4992-8af3-1751925193c0",
   "metadata": {},
   "outputs": [],
   "source": [
    "sample_data = audio_inputs.shape[0]\n",
    "\n",
    "sample_train = int(sample_data * 0.8)\n",
    "sample_valid = int(sample_data * 0.1)\n",
    "sample_test = int(sample_data * 0.1)\n",
    "\n",
    "train_data_inputs = audio_inputs[:sample_train,]\n",
    "valid_data_inputs = audio_inputs[sample_train : sample_train+ sample_valid,]\n",
    "test_data_inputs = audio_inputs[sample_train + sample_valid : ,]\n",
    "\n",
    "train_data_targets = audio_targets[:sample_train,]\n",
    "valid_data_targets = audio_targets[sample_train : sample_train+ sample_valid,]\n",
    "test_data_targets = audio_targets[sample_train + sample_valid : ,]\n"
   ]
  },
  {
   "cell_type": "code",
   "execution_count": 244,
   "id": "b19257db-4eea-400c-ba1a-f9b17b627df5",
   "metadata": {
    "scrolled": true
   },
   "outputs": [
    {
     "name": "stdout",
     "output_type": "stream",
     "text": [
      "Train data (3579, 11) \n",
      " Validation data (447, 11) \n",
      " Test data (448, 11)\n"
     ]
    }
   ],
   "source": [
    "print(f'Train data {train_data_inputs.shape} \\n Validation data {valid_data_inputs.shape} \\n Test data {test_data_inputs.shape}')"
   ]
  },
  {
   "cell_type": "markdown",
   "id": "f6239d4e-eeda-4b8c-bac0-f15928e740de",
   "metadata": {},
   "source": [
    "Saving the files  as  Tensors"
   ]
  },
  {
   "cell_type": "code",
   "execution_count": 247,
   "id": "ea81309a-9c3c-4dec-a045-cea78fabf798",
   "metadata": {},
   "outputs": [],
   "source": [
    "np.savez('audio_train', inputs = train_data_inputs, targets = train_data_targets)\n",
    "np.savez('audio_valid', inputs = valid_data_inputs, targets = valid_data_targets)\n",
    "np.savez('audio_test', inputs = test_data_inputs, targets = test_data_targets)"
   ]
  },
  {
   "cell_type": "markdown",
   "id": "e785cc1c-dab7-4525-a840-23498db2ab47",
   "metadata": {},
   "source": [
    "Now let's again load the data which we saved it already as Tensors"
   ]
  },
  {
   "cell_type": "code",
   "execution_count": 250,
   "id": "f2835679-0908-4c32-a923-264dfea06e05",
   "metadata": {},
   "outputs": [],
   "source": [
    "npz = np.load('audio_train.npz')\n",
    "train_inputs = npz['inputs']\n",
    "train_targets = npz['targets']"
   ]
  },
  {
   "cell_type": "code",
   "execution_count": 297,
   "id": "03eb770f-2d06-40c1-b8dc-8472a00ed986",
   "metadata": {},
   "outputs": [],
   "source": [
    "npz = np.load('audio_valid.npz')\n",
    "valid_inputs, valid_targets = npz['inputs'], npz['targets']\n",
    "\n",
    "npz = np.load('audio_test.npz')\n",
    "test_inputs,test_targets = npz['inputs'] , npz['targets']"
   ]
  },
  {
   "cell_type": "markdown",
   "id": "5fa934e3-80e1-470e-a64b-76a047bcd643",
   "metadata": {},
   "source": [
    "Define Hyper parameters"
   ]
  },
  {
   "cell_type": "code",
   "execution_count": 328,
   "id": "bca9a31d-d545-4a46-8a84-915a5417e1c7",
   "metadata": {},
   "outputs": [],
   "source": [
    "output_size = 2\n",
    "hidden_layers = 50"
   ]
  },
  {
   "cell_type": "markdown",
   "id": "f7212ebb-8a5d-4b94-a938-e8e048765e3a",
   "metadata": {},
   "source": [
    "Build a model"
   ]
  },
  {
   "cell_type": "code",
   "execution_count": 330,
   "id": "d382836c-2ba4-4da9-8897-6714aa26e8c5",
   "metadata": {},
   "outputs": [],
   "source": [
    "model = tf.keras.Sequential([\n",
    "\n",
    "                            tf.keras.layers.Dense(hidden_layers, activation = 'relu'),\n",
    "                            tf.keras.layers.Dropout(0.3),\n",
    "                            tf.keras.layers.Dense(hidden_layers, activation = 'relu'),\n",
    "                            tf.keras.layers.Dropout(0.3),\n",
    "                            tf.keras.layers.Dense(output_size, activation = 'softmax')\n",
    "    ])\n",
    "\n",
    "model.compile(optimizer='adam', loss='sparse_categorical_crossentropy',metrics = 'accuracy')"
   ]
  },
  {
   "cell_type": "code",
   "execution_count": null,
   "id": "538dbd1a-fabb-4c1d-92a6-39525acbf768",
   "metadata": {},
   "outputs": [
    {
     "name": "stdout",
     "output_type": "stream",
     "text": [
      "Epoch 1/100\n",
      "36/36 - 2s - loss: 0.6367 - accuracy: 0.6102 - val_loss: 0.5366 - val_accuracy: 0.7271 - 2s/epoch - 56ms/step\n",
      "Epoch 2/100\n",
      "36/36 - 0s - loss: 0.5342 - accuracy: 0.7047 - val_loss: 0.4803 - val_accuracy: 0.7450 - 287ms/epoch - 8ms/step\n",
      "Epoch 3/100\n",
      "36/36 - 0s - loss: 0.4935 - accuracy: 0.7105 - val_loss: 0.4440 - val_accuracy: 0.7539 - 300ms/epoch - 8ms/step\n",
      "Epoch 4/100\n",
      "36/36 - 0s - loss: 0.4652 - accuracy: 0.7404 - val_loss: 0.4233 - val_accuracy: 0.7629 - 307ms/epoch - 9ms/step\n",
      "Epoch 5/100\n",
      "36/36 - 0s - loss: 0.4523 - accuracy: 0.7407 - val_loss: 0.4132 - val_accuracy: 0.7606 - 287ms/epoch - 8ms/step\n",
      "Epoch 6/100\n",
      "36/36 - 0s - loss: 0.4344 - accuracy: 0.7555 - val_loss: 0.4003 - val_accuracy: 0.7808 - 283ms/epoch - 8ms/step\n",
      "Epoch 7/100\n",
      "36/36 - 0s - loss: 0.4303 - accuracy: 0.7524 - val_loss: 0.3972 - val_accuracy: 0.7696 - 263ms/epoch - 7ms/step\n",
      "Epoch 8/100\n",
      "36/36 - 0s - loss: 0.4265 - accuracy: 0.7533 - val_loss: 0.3916 - val_accuracy: 0.7606 - 240ms/epoch - 7ms/step\n",
      "Epoch 9/100\n",
      "36/36 - 0s - loss: 0.4095 - accuracy: 0.7636 - val_loss: 0.3875 - val_accuracy: 0.7830 - 271ms/epoch - 8ms/step\n",
      "Epoch 10/100\n",
      "36/36 - 0s - loss: 0.4095 - accuracy: 0.7628 - val_loss: 0.3780 - val_accuracy: 0.7919 - 248ms/epoch - 7ms/step\n",
      "Epoch 11/100\n",
      "36/36 - 0s - loss: 0.4005 - accuracy: 0.7700 - val_loss: 0.3745 - val_accuracy: 0.7673 - 258ms/epoch - 7ms/step\n",
      "Epoch 12/100\n",
      "36/36 - 0s - loss: 0.3963 - accuracy: 0.7678 - val_loss: 0.3712 - val_accuracy: 0.7852 - 250ms/epoch - 7ms/step\n",
      "Epoch 13/100\n",
      "36/36 - 0s - loss: 0.4001 - accuracy: 0.7689 - val_loss: 0.3702 - val_accuracy: 0.7875 - 241ms/epoch - 7ms/step\n",
      "Epoch 14/100\n"
     ]
    }
   ],
   "source": [
    "batch_size = 100\n",
    "epochs = 100\n",
    "early_stopping = tf.keras.callbacks.EarlyStopping(patience = 5,restore_best_weights=True)\n",
    "\n",
    "model.fit(\n",
    "     train_inputs,\n",
    "    train_targets,\n",
    "    batch_size= batch_size,\n",
    "    epochs = epochs,\n",
    "    callbacks = early_stopping,\n",
    "    validation_data = (valid_inputs, valid_targets),\n",
    "    verbose = 2\n",
    "    \n",
    ")"
   ]
  },
  {
   "cell_type": "code",
   "execution_count": 311,
   "id": "807b86e7-a516-4179-9212-37ff4255e7f0",
   "metadata": {},
   "outputs": [
    {
     "name": "stdout",
     "output_type": "stream",
     "text": [
      "14/14 [==============================] - 0s 5ms/step - loss: 0.3215 - accuracy: 0.8125\n"
     ]
    }
   ],
   "source": [
    "loss, accuracy = model.evaluate(test_inputs, test_targets)"
   ]
  },
  {
   "cell_type": "code",
   "execution_count": 319,
   "id": "37a71e14-b666-4ea9-a9dd-7a244a891524",
   "metadata": {},
   "outputs": [
    {
     "name": "stdout",
     "output_type": "stream",
     "text": [
      " Model Details:\n",
      " Accuracy: 81.25\n"
     ]
    }
   ],
   "source": [
    "print(f' Model Details:\\n Accuracy: {accuracy * 100}')"
   ]
  },
  {
   "cell_type": "code",
   "execution_count": null,
   "id": "e9487a9f-22d9-4071-8ac1-53d8894c8935",
   "metadata": {},
   "outputs": [],
   "source": []
  }
 ],
 "metadata": {
  "kernelspec": {
   "display_name": "Python [conda env:my_env]",
   "language": "python",
   "name": "conda-env-my_env-py"
  },
  "language_info": {
   "codemirror_mode": {
    "name": "ipython",
    "version": 3
   },
   "file_extension": ".py",
   "mimetype": "text/x-python",
   "name": "python",
   "nbconvert_exporter": "python",
   "pygments_lexer": "ipython3",
   "version": "3.10.8"
  }
 },
 "nbformat": 4,
 "nbformat_minor": 5
}
